{
 "cells": [
  {
   "cell_type": "markdown",
   "id": "6d9a715b-a753-4e57-b2b3-5d0f11b7ba05",
   "metadata": {},
   "source": [
    "# PyTorch NN convert to ONNX\n",
    "\n",
    "Example notebook explaining:\n",
    "- how to build a PyTorch model for benchmarking with RoseNNa\n",
    "- saving PyTorch model to ```.pt``` and ```.onnx``` formats"
   ]
  },
  {
   "cell_type": "code",
   "execution_count": 2,
   "id": "32c09274-baae-420c-8e34-fef9b68e6c9d",
   "metadata": {},
   "outputs": [],
   "source": [
    "import torch\n",
    "import torch.nn as nn\n",
    "import sys\n",
    "import os\n",
    "import timeit\n",
    "import numpy as np\n",
    "import pathlib\n",
    "import sys, getopt"
   ]
  },
  {
   "cell_type": "code",
   "execution_count": 12,
   "id": "1830b7d6-18d5-42c7-900b-8621270089af",
   "metadata": {},
   "outputs": [],
   "source": [
    "# example on how to use torchviz\n",
    "\"\"\"\n",
    "model = nn.Sequential()\n",
    "model.add_module('W0', nn.Linear(8, 16))\n",
    "model.add_module('tanh', nn.Tanh())\n",
    "model.add_module('W1', nn.Linear(16, 1))\n",
    "\n",
    "x = torch.randn(1, 8)\n",
    "y = model(x)\n",
    "\n",
    "make_dot(y.mean(), params=dict(model.named_parameters()))\n",
    "\"\"\"\n",
    "\n",
    "# the same model in Keras\n",
    "\"\"\"\n",
    "model.add (BatchNormalization(input_dim = 2))\n",
    "model.add (layers.Dense(3, activation=\"relu\"))\n",
    "model.add (layers.Dense(3, activation=\"relu\"))\n",
    "#model.add (layers.Dense(1, activation=\"sigmoid\"))\n",
    "model.compile(optimizer = \"adam\", loss='mae', \\\n",
    "    metrics=['binary_crossentropy', 'kullback_leibler_divergence', 'mape'])\n",
    "\n",
    "\"\"\"\n",
    "\n",
    "# build model NN\n",
    "class NN(nn.Module):\n",
    "    def __init__(self):\n",
    "        super(NN, self).__init__()\n",
    "        self.linear_relu_stack = nn.Sequential(\n",
    "            nn.Linear(2, 3),\n",
    "            nn.ReLU(),\n",
    "            nn.Linear(3, 1),\n",
    "            nn.ReLU()\n",
    "        )\n",
    "\n",
    "    def forward(self, inp):\n",
    "        hid = self.linear_relu_stack(inp)\n",
    "        return hid"
   ]
  },
  {
   "cell_type": "code",
   "execution_count": 22,
   "id": "cb559140-c2ed-4681-bb13-a51b2b8a2465",
   "metadata": {},
   "outputs": [
    {
     "name": "stdout",
     "output_type": "stream",
     "text": [
      "tensor([[2.7500]], grad_fn=<ReluBackward0>)\n"
     ]
    }
   ],
   "source": [
    "# check inference is correct\n",
    "model = NN()\n",
    "# Initialize weights to 0.5\n",
    "for param in model.parameters():\n",
    "    nn.init.constant_(param, 0.5)\n",
    "inp = torch.ones(1,2)\n",
    "\n",
    "# output should always be 2.7500\n",
    "print(model(inp))"
   ]
  },
  {
   "cell_type": "code",
   "execution_count": 8,
   "id": "2d27098e-74a9-4e8c-bdd0-3fd44c547ce9",
   "metadata": {},
   "outputs": [],
   "source": [
    "# save model to pytorch file\n",
    "torch.save(model, 'PyTorchModelCreateONNXconvert_33.pt')"
   ]
  },
  {
   "cell_type": "code",
   "execution_count": 9,
   "id": "27866b0e-82fc-4eb2-af4d-3a0a7f473764",
   "metadata": {},
   "outputs": [
    {
     "data": {
      "text/plain": [
       "NN(\n",
       "  (linear_relu_stack): Sequential(\n",
       "    (0): Linear(in_features=2, out_features=3, bias=True)\n",
       "    (1): ReLU()\n",
       "    (2): Linear(in_features=3, out_features=1, bias=True)\n",
       "    (3): ReLU()\n",
       "  )\n",
       ")"
      ]
     },
     "execution_count": 9,
     "metadata": {},
     "output_type": "execute_result"
    }
   ],
   "source": [
    "# load pytorch model\n",
    "model = torch.load('PyTorchModelCreateONNXconvert_33.pt')\n",
    "model.eval()"
   ]
  },
  {
   "cell_type": "code",
   "execution_count": 7,
   "id": "dc77b163-0e25-4058-91d4-6bdce4a97e5b",
   "metadata": {},
   "outputs": [],
   "source": [
    "# load weights from the h5"
   ]
  },
  {
   "cell_type": "code",
   "execution_count": 28,
   "id": "dd2fb3ed-1b74-4215-bc95-92a41121e623",
   "metadata": {},
   "outputs": [],
   "source": [
    "# save to onnx files"
   ]
  },
  {
   "cell_type": "code",
   "execution_count": 23,
   "id": "4f6c79be-f096-44ac-95a3-fc206156be34",
   "metadata": {},
   "outputs": [],
   "source": [
    "#MODEL STRUCTURE FILE\n",
    "filePath = './'\n",
    "torch.onnx.export(model,               # model being run\n",
    "                  inp,                         # model input (or a tuple for multiple inputs)\n",
    "                  filePath+\"gemm_small.onnx\",   # where to save the model (can be a file or file-like object)\n",
    "                  export_params=True,        # store the trained parameter weights inside the model file\n",
    "                  opset_version=10,          # the ONNX version to export the model to\n",
    "                  do_constant_folding=True,  # whether to execute constant folding for optimization\n",
    "                  input_names = ['input'],   # the model's input names\n",
    "                  output_names = ['output'], # the model's output names\n",
    "                  )\n",
    "\n",
    "torch.onnx.export(model,               # model being run\n",
    "                  inp,                         # model input (or a tuple for multiple inputs)\n",
    "                  filePath+\"gemm_small_weights.onnx\",   # where to save the model (can be a file or file-like object)\n",
    "                  export_params=True,        # store the trained parameter weights inside the model file\n",
    "                  opset_version=10,          # the ONNX version to export the model to\n",
    "                  do_constant_folding=False,  # whether to execute constant folding for optimization\n",
    "                  input_names = ['input'],   # the model's input names\n",
    "                  output_names = ['output'], # the model's output names\n",
    "                  )"
   ]
  },
  {
   "cell_type": "code",
   "execution_count": null,
   "id": "56a73394-a062-4603-999c-a2addd8c7db1",
   "metadata": {},
   "outputs": [],
   "source": []
  }
 ],
 "metadata": {
  "kernelspec": {
   "display_name": "venv",
   "language": "python",
   "name": "venv"
  },
  "language_info": {
   "codemirror_mode": {
    "name": "ipython",
    "version": 3
   },
   "file_extension": ".py",
   "mimetype": "text/x-python",
   "name": "python",
   "nbconvert_exporter": "python",
   "pygments_lexer": "ipython3",
   "version": "3.10.13"
  }
 },
 "nbformat": 4,
 "nbformat_minor": 5
}
